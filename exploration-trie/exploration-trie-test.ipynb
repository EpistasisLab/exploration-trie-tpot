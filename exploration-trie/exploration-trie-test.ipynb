{
 "cells": [
  {
   "cell_type": "code",
   "execution_count": 1,
   "metadata": {},
   "outputs": [],
   "source": [
    "\n",
    "from cmath import inf\n",
    "\n",
    "\n",
    "import matplotlib.pyplot as plt\n",
    "import numpy as np\n",
    "\n",
    "import deap\n",
    "from deap import creator\n",
    "\n",
    "\n",
    "import pydot \n",
    "from IPython.display import Image, display\n",
    "\n",
    "import networkx as nx\n",
    "import random\n",
    "import math"
   ]
  }
 ],
 "metadata": {
  "kernelspec": {
   "display_name": "alirogpt",
   "language": "python",
   "name": "python3"
  },
  "language_info": {
   "codemirror_mode": {
    "name": "ipython",
    "version": 3
   },
   "file_extension": ".py",
   "mimetype": "text/x-python",
   "name": "python",
   "nbconvert_exporter": "python",
   "pygments_lexer": "ipython3",
   "version": "3.10.9 (main, Jan 11 2023, 09:18:20) [Clang 14.0.6 ]"
  },
  "orig_nbformat": 4,
  "vscode": {
   "interpreter": {
    "hash": "dfe0b1e2592856d1e9168230184dc4a3c16db90568a764f6b5fad287a34966dd"
   }
  }
 },
 "nbformat": 4,
 "nbformat_minor": 2
}
